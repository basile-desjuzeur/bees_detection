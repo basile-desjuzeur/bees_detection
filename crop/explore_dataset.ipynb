{
 "cells": [
  {
   "attachments": {},
   "cell_type": "markdown",
   "metadata": {},
   "source": [
    "# EXPLORING THE OUTPUTS OF PREDICT.PY\n",
    "\n",
    "We ran predict.py on the whole dataset, outputting a csv with, for every detected image, stores the coordinates of the bounding box.\n",
    "We want to: \n",
    "- see what proportions of images were detected\n",
    "- set the correct labels for each image (they were detected by Yolo as 'Anthophila')\n",
    "- get a list of all labels and the number of images for each label "
   ]
  },
  {
   "cell_type": "code",
   "execution_count": 55,
   "metadata": {},
   "outputs": [],
   "source": [
    "import pandas as pd \n",
    "import os \n",
    "from matplotlib import pyplot as plt "
   ]
  },
  {
   "attachments": {},
   "cell_type": "markdown",
   "metadata": {},
   "source": [
    "Accessing the csvs"
   ]
  },
  {
   "cell_type": "code",
   "execution_count": 56,
   "metadata": {},
   "outputs": [],
   "source": [
    "# output of the detection\n",
    "path_detections='/home/basile/Documents/projet_bees_detection_basile/bees_detection/crop/predicted_dataset.csv'\n",
    "df_dataset_detected = pd.read_csv(path_detections, sep=',', header=None, names=['file_path', 'xmin', 'ymin', 'xmax', 'ymax', 'class','width','height'])"
   ]
  },
  {
   "cell_type": "code",
   "execution_count": 57,
   "metadata": {},
   "outputs": [],
   "source": [
    "# write all the files in a csv file\n",
    "! find /home/basile/Documents/projet_bees_detection_basile/data_bees_detection/whole_dataset/ -type f > files_in_dataset.csv"
   ]
  },
  {
   "cell_type": "code",
   "execution_count": 58,
   "metadata": {},
   "outputs": [],
   "source": [
    "# number of images in the dataset\n",
    "df_dataset = pd.read_csv('files_in_dataset.csv', sep=',', header=None, names=['file_path'])\n",
    "\n",
    "# number of images in the dataset detected, 0 if no bee detected\n",
    "df_dataset['detected'] = df_dataset['file_path'].isin(df_dataset_detected['file_path'])"
   ]
  },
  {
   "cell_type": "code",
   "execution_count": 59,
   "metadata": {},
   "outputs": [
    {
     "name": "stdout",
     "output_type": "stream",
     "text": [
      "proportion of images visited : 32% \n"
     ]
    }
   ],
   "source": [
    "proportion_images_visited = df_dataset['detected'].sum()/len(df_dataset)\n",
    "print('proportion of images visited : {:.0%} '.format(proportion_images_visited))"
   ]
  },
  {
   "cell_type": "code",
   "execution_count": 60,
   "metadata": {},
   "outputs": [
    {
     "data": {
      "text/html": [
       "<div>\n",
       "<style scoped>\n",
       "    .dataframe tbody tr th:only-of-type {\n",
       "        vertical-align: middle;\n",
       "    }\n",
       "\n",
       "    .dataframe tbody tr th {\n",
       "        vertical-align: top;\n",
       "    }\n",
       "\n",
       "    .dataframe thead th {\n",
       "        text-align: right;\n",
       "    }\n",
       "</style>\n",
       "<table border=\"1\" class=\"dataframe\">\n",
       "  <thead>\n",
       "    <tr style=\"text-align: right;\">\n",
       "      <th></th>\n",
       "      <th>file_path</th>\n",
       "      <th>xmin</th>\n",
       "      <th>ymin</th>\n",
       "      <th>xmax</th>\n",
       "      <th>ymax</th>\n",
       "      <th>class</th>\n",
       "      <th>width</th>\n",
       "      <th>height</th>\n",
       "    </tr>\n",
       "  </thead>\n",
       "  <tbody>\n",
       "    <tr>\n",
       "      <th>0</th>\n",
       "      <td>/home/basile/Documents/projet_bees_detection_b...</td>\n",
       "      <td>650</td>\n",
       "      <td>-157</td>\n",
       "      <td>3341</td>\n",
       "      <td>1885</td>\n",
       "      <td>Anthophila</td>\n",
       "      <td>4000</td>\n",
       "      <td>2667</td>\n",
       "    </tr>\n",
       "    <tr>\n",
       "      <th>1</th>\n",
       "      <td>/home/basile/Documents/projet_bees_detection_b...</td>\n",
       "      <td>669</td>\n",
       "      <td>711</td>\n",
       "      <td>2586</td>\n",
       "      <td>1963</td>\n",
       "      <td>Anthophila</td>\n",
       "      <td>3313</td>\n",
       "      <td>2485</td>\n",
       "    </tr>\n",
       "    <tr>\n",
       "      <th>2</th>\n",
       "      <td>/home/basile/Documents/projet_bees_detection_b...</td>\n",
       "      <td>-750</td>\n",
       "      <td>-24</td>\n",
       "      <td>2996</td>\n",
       "      <td>1824</td>\n",
       "      <td>Anthophila</td>\n",
       "      <td>2280</td>\n",
       "      <td>1710</td>\n",
       "    </tr>\n",
       "    <tr>\n",
       "      <th>3</th>\n",
       "      <td>/home/basile/Documents/projet_bees_detection_b...</td>\n",
       "      <td>-364</td>\n",
       "      <td>675</td>\n",
       "      <td>2522</td>\n",
       "      <td>1481</td>\n",
       "      <td>Anthophila</td>\n",
       "      <td>2280</td>\n",
       "      <td>1710</td>\n",
       "    </tr>\n",
       "    <tr>\n",
       "      <th>4</th>\n",
       "      <td>/home/basile/Documents/projet_bees_detection_b...</td>\n",
       "      <td>1055</td>\n",
       "      <td>-28</td>\n",
       "      <td>2481</td>\n",
       "      <td>1849</td>\n",
       "      <td>Anthophila</td>\n",
       "      <td>3352</td>\n",
       "      <td>2514</td>\n",
       "    </tr>\n",
       "  </tbody>\n",
       "</table>\n",
       "</div>"
      ],
      "text/plain": [
       "                                           file_path  xmin  ymin  xmax  ymax  \\\n",
       "0  /home/basile/Documents/projet_bees_detection_b...   650  -157  3341  1885   \n",
       "1  /home/basile/Documents/projet_bees_detection_b...   669   711  2586  1963   \n",
       "2  /home/basile/Documents/projet_bees_detection_b...  -750   -24  2996  1824   \n",
       "3  /home/basile/Documents/projet_bees_detection_b...  -364   675  2522  1481   \n",
       "4  /home/basile/Documents/projet_bees_detection_b...  1055   -28  2481  1849   \n",
       "\n",
       "        class  width  height  \n",
       "0  Anthophila   4000    2667  \n",
       "1  Anthophila   3313    2485  \n",
       "2  Anthophila   2280    1710  \n",
       "3  Anthophila   2280    1710  \n",
       "4  Anthophila   3352    2514  "
      ]
     },
     "execution_count": 60,
     "metadata": {},
     "output_type": "execute_result"
    }
   ],
   "source": [
    "df_dataset_detected.head()"
   ]
  },
  {
   "cell_type": "code",
   "execution_count": null,
   "metadata": {},
   "outputs": [],
   "source": []
  }
 ],
 "metadata": {
  "kernelspec": {
   "display_name": "venv_bees",
   "language": "python",
   "name": "python3"
  },
  "language_info": {
   "codemirror_mode": {
    "name": "ipython",
    "version": 3
   },
   "file_extension": ".py",
   "mimetype": "text/x-python",
   "name": "python",
   "nbconvert_exporter": "python",
   "pygments_lexer": "ipython3",
   "version": "3.10.6"
  },
  "orig_nbformat": 4,
  "vscode": {
   "interpreter": {
    "hash": "5c612036f70405ccf2a58871faeff80bf9f2bbfa83a9382249588fc5eef60e3e"
   }
  }
 },
 "nbformat": 4,
 "nbformat_minor": 2
}
