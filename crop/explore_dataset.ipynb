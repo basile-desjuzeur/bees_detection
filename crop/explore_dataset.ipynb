{
 "cells": [
  {
   "attachments": {},
   "cell_type": "markdown",
   "metadata": {},
   "source": [
    "# EXPLORING THE OUTPUTS OF PREDICT.PY\n",
    "\n",
    "We ran predict.py on the whole dataset, outputting a csv with, for every detected image, stores the coordinates of the bounding box.\n",
    "We want to: \n",
    "- see what proportions of images were detected\n",
    "- set the correct labels for each image (they were detected by Yolo as 'Anthophila')\n",
    "- get a list of all labels and the number of images for each label "
   ]
  },
  {
   "cell_type": "code",
   "execution_count": 7,
   "metadata": {},
   "outputs": [],
   "source": [
    "import pandas as pd \n",
    "import os \n",
    "from matplotlib import pyplot as plt "
   ]
  },
  {
   "attachments": {},
   "cell_type": "markdown",
   "metadata": {},
   "source": [
    "Accessing the csvs"
   ]
  },
  {
   "cell_type": "code",
   "execution_count": 8,
   "metadata": {},
   "outputs": [],
   "source": [
    "# output of the detection\n",
    "path_detections='/home/basile/Documents/projet_bees_detection_basile/bees_detection/crop/data/predict_csv/whole_dataset_merged.csv'\n",
    "df_dataset_detected = pd.read_csv(path_detections, sep=',', header=None, names=['file_path', 'xmin', 'ymin', 'xmax', 'ymax', 'class','width','height'])"
   ]
  },
  {
   "cell_type": "code",
   "execution_count": 9,
   "metadata": {},
   "outputs": [],
   "source": [
    "# write all the files in a csv file\n",
    "! find /home/basile/Documents/projet_bees_detection_basile/data_bees_detection/whole_dataset/ -type f > files_in_dataset.csv"
   ]
  },
  {
   "cell_type": "code",
   "execution_count": 10,
   "metadata": {},
   "outputs": [],
   "source": [
    "# number of images in the dataset\n",
    "df_dataset = pd.read_csv('files_in_dataset.csv', sep=',', header=None, names=['file_path'])\n",
    "\n",
    "# number of images in the dataset detected, 0 if no bee detected\n",
    "df_dataset['detected'] = df_dataset['file_path'].isin(df_dataset_detected['file_path'])"
   ]
  },
  {
   "cell_type": "code",
   "execution_count": 11,
   "metadata": {},
   "outputs": [
    {
     "name": "stdout",
     "output_type": "stream",
     "text": [
      "proportion of images visited : 55% \n"
     ]
    }
   ],
   "source": [
    "proportion_images_visited = df_dataset['detected'].sum()/len(df_dataset)\n",
    "print('proportion of images visited : {:.0%} '.format(proportion_images_visited))"
   ]
  },
  {
   "cell_type": "code",
   "execution_count": 12,
   "metadata": {},
   "outputs": [
    {
     "data": {
      "text/html": [
       "<div>\n",
       "<style scoped>\n",
       "    .dataframe tbody tr th:only-of-type {\n",
       "        vertical-align: middle;\n",
       "    }\n",
       "\n",
       "    .dataframe tbody tr th {\n",
       "        vertical-align: top;\n",
       "    }\n",
       "\n",
       "    .dataframe thead th {\n",
       "        text-align: right;\n",
       "    }\n",
       "</style>\n",
       "<table border=\"1\" class=\"dataframe\">\n",
       "  <thead>\n",
       "    <tr style=\"text-align: right;\">\n",
       "      <th></th>\n",
       "      <th>file_path</th>\n",
       "      <th>xmin</th>\n",
       "      <th>ymin</th>\n",
       "      <th>xmax</th>\n",
       "      <th>ymax</th>\n",
       "      <th>class</th>\n",
       "      <th>width</th>\n",
       "      <th>height</th>\n",
       "    </tr>\n",
       "  </thead>\n",
       "  <tbody>\n",
       "    <tr>\n",
       "      <th>0</th>\n",
       "      <td>/home/basile/Documents/projet_bees_detection_b...</td>\n",
       "      <td>1635</td>\n",
       "      <td>946</td>\n",
       "      <td>3555</td>\n",
       "      <td>2432</td>\n",
       "      <td>Anthophila</td>\n",
       "      <td>5000</td>\n",
       "      <td>3333</td>\n",
       "    </tr>\n",
       "    <tr>\n",
       "      <th>1</th>\n",
       "      <td>/home/basile/Documents/projet_bees_detection_b...</td>\n",
       "      <td>1008</td>\n",
       "      <td>813</td>\n",
       "      <td>2049</td>\n",
       "      <td>1939</td>\n",
       "      <td>Anthophila</td>\n",
       "      <td>4000</td>\n",
       "      <td>2667</td>\n",
       "    </tr>\n",
       "    <tr>\n",
       "      <th>2</th>\n",
       "      <td>/home/basile/Documents/projet_bees_detection_b...</td>\n",
       "      <td>858</td>\n",
       "      <td>324</td>\n",
       "      <td>3275</td>\n",
       "      <td>2337</td>\n",
       "      <td>Anthophila</td>\n",
       "      <td>4000</td>\n",
       "      <td>2667</td>\n",
       "    </tr>\n",
       "    <tr>\n",
       "      <th>3</th>\n",
       "      <td>/home/basile/Documents/projet_bees_detection_b...</td>\n",
       "      <td>1288</td>\n",
       "      <td>812</td>\n",
       "      <td>2548</td>\n",
       "      <td>1349</td>\n",
       "      <td>Anthophila</td>\n",
       "      <td>4000</td>\n",
       "      <td>2667</td>\n",
       "    </tr>\n",
       "    <tr>\n",
       "      <th>4</th>\n",
       "      <td>/home/basile/Documents/projet_bees_detection_b...</td>\n",
       "      <td>977</td>\n",
       "      <td>868</td>\n",
       "      <td>2963</td>\n",
       "      <td>1962</td>\n",
       "      <td>Anthophila</td>\n",
       "      <td>4000</td>\n",
       "      <td>2667</td>\n",
       "    </tr>\n",
       "  </tbody>\n",
       "</table>\n",
       "</div>"
      ],
      "text/plain": [
       "                                           file_path  xmin  ymin  xmax  ymax  \\\n",
       "0  /home/basile/Documents/projet_bees_detection_b...  1635   946  3555  2432   \n",
       "1  /home/basile/Documents/projet_bees_detection_b...  1008   813  2049  1939   \n",
       "2  /home/basile/Documents/projet_bees_detection_b...   858   324  3275  2337   \n",
       "3  /home/basile/Documents/projet_bees_detection_b...  1288   812  2548  1349   \n",
       "4  /home/basile/Documents/projet_bees_detection_b...   977   868  2963  1962   \n",
       "\n",
       "        class  width  height  \n",
       "0  Anthophila   5000    3333  \n",
       "1  Anthophila   4000    2667  \n",
       "2  Anthophila   4000    2667  \n",
       "3  Anthophila   4000    2667  \n",
       "4  Anthophila   4000    2667  "
      ]
     },
     "execution_count": 12,
     "metadata": {},
     "output_type": "execute_result"
    }
   ],
   "source": [
    "df_dataset_detected.head()"
   ]
  }
 ],
 "metadata": {
  "kernelspec": {
   "display_name": "venv_bees",
   "language": "python",
   "name": "python3"
  },
  "language_info": {
   "codemirror_mode": {
    "name": "ipython",
    "version": 3
   },
   "file_extension": ".py",
   "mimetype": "text/x-python",
   "name": "python",
   "nbconvert_exporter": "python",
   "pygments_lexer": "ipython3",
   "version": "3.10.6"
  },
  "orig_nbformat": 4,
  "vscode": {
   "interpreter": {
    "hash": "5c612036f70405ccf2a58871faeff80bf9f2bbfa83a9382249588fc5eef60e3e"
   }
  }
 },
 "nbformat": 4,
 "nbformat_minor": 2
}
