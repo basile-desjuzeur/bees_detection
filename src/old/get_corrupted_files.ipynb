{
 "cells": [
  {
   "cell_type": "code",
   "execution_count": 84,
   "metadata": {},
   "outputs": [],
   "source": [
    "import os\n",
    "import pandas as pd\n",
    "from pathlib import Path"
   ]
  },
  {
   "cell_type": "code",
   "execution_count": 85,
   "metadata": {},
   "outputs": [
    {
     "name": "stdout",
     "output_type": "stream",
     "text": [
      "Parmi les 393 corrompues sur le dd, 0 ont été renvoyées \n"
     ]
    }
   ],
   "source": [
    "#1 vérifier que toutes les photos dans csv_corrompues sont sur le dossier corrompu\n",
    "\n",
    "base_path='/home/basile/Documents/data_bees_detection'\n",
    "path_to_csv='BD_71_Annotations/missing_bees_detection_dataset.csv'\n",
    "path_to_dir='Corrompues'\n",
    "\n",
    "files_in_dir=os.listdir(os.path.join(base_path,path_to_dir))\n",
    "\n",
    "df_missing_csv=pd.read_csv(os.path.join(base_path,path_to_csv))\n",
    "missing_pic_csv=[path.split(os.sep)[-1] for path in df_missing_csv.iloc[:,1]]\n",
    "\n",
    "ok_picture=len([pic for pic in missing_pic_csv if pic in files_in_dir])\n",
    "n_picture=len(missing_pic_csv)\n",
    "print(\"Parmi les {} corrompues sur le dd, {} ont été renvoyées \".format(n_picture,ok_picture))"
   ]
  },
  {
   "cell_type": "markdown",
   "metadata": {},
   "source": []
  },
  {
   "cell_type": "code",
   "execution_count": 86,
   "metadata": {},
   "outputs": [],
   "source": [
    "# les photos dans le dossier corrompues sont dans quel dossier de BD71 ? \n",
    "\n",
    "path_to_bd71_bombus=os.path.join(base_path,'BD_71','Bombus pascuorum')\n",
    "\n",
    "bool_list=[os.path.isfile(os.path.join(path_to_bd71_bombus,Path(pic))) for pic in files_in_dir]"
   ]
  },
  {
   "cell_type": "code",
   "execution_count": 87,
   "metadata": {},
   "outputs": [
    {
     "data": {
      "text/plain": [
       "0"
      ]
     },
     "execution_count": 87,
     "metadata": {},
     "output_type": "execute_result"
    }
   ],
   "source": [
    "sum(bool_list)"
   ]
  },
  {
   "cell_type": "code",
   "execution_count": 88,
   "metadata": {},
   "outputs": [],
   "source": [
    "# remplacer les photos corrompues de BD_71 par celles de Corrompues\n",
    "\n",
    "for pic in files_in_dir:\n",
    "\n",
    "    os.replace(os.path.join(base_path,path_to_dir,pic),os.path.join(path_to_bd71_bombus,pic))\n",
    "    "
   ]
  },
  {
   "cell_type": "code",
   "execution_count": 2,
   "metadata": {},
   "outputs": [],
   "source": [
    "import json \n",
    "\n",
    "path_to_json='/home/basile/Documents/projet_bees_detection_basile/bees_detection/src/config/bees_detection copy.json'\n",
    "\n",
    "with open(path_to_json,'r') as json_buffer:\n",
    "    config=json.loads(json_buffer.read())\n",
    "    \n",
    "temp=config['data']['test_csv_file']\n",
    "config['data']['test_csv_file']='test'\n",
    "\n",
    "with open(path_to_json,'w') as json_buffer:\n",
    "    config=json.dump(config,json_buffer,indent=4)"
   ]
  },
  {
   "cell_type": "code",
   "execution_count": null,
   "metadata": {},
   "outputs": [],
   "source": []
  }
 ],
 "metadata": {
  "kernelspec": {
   "display_name": "venv_bees",
   "language": "python",
   "name": "python3"
  },
  "language_info": {
   "codemirror_mode": {
    "name": "ipython",
    "version": 3
   },
   "file_extension": ".py",
   "mimetype": "text/x-python",
   "name": "python",
   "nbconvert_exporter": "python",
   "pygments_lexer": "ipython3",
   "version": "3.10.6 (main, Nov 14 2022, 16:10:14) [GCC 11.3.0]"
  },
  "orig_nbformat": 4,
  "vscode": {
   "interpreter": {
    "hash": "5c612036f70405ccf2a58871faeff80bf9f2bbfa83a9382249588fc5eef60e3e"
   }
  }
 },
 "nbformat": 4,
 "nbformat_minor": 2
}
