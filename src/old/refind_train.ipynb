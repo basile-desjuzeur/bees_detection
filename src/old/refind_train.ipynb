{
 "cells": [
  {
   "cell_type": "code",
   "execution_count": 1,
   "metadata": {},
   "outputs": [],
   "source": [
    "import pandas as pd \n"
   ]
  },
  {
   "cell_type": "code",
   "execution_count": 4,
   "metadata": {},
   "outputs": [],
   "source": [
    "path_to_dataset='/home/basile/Documents/projet_bees_detection_basile/bees_detection/src/data/inputs/bees_detection_dataset.csv'\n",
    "path_to_train='/home/basile/Documents/projet_bees_detection_basile/bees_detection/src/data/inputs/train.csv'\n",
    "path_to_test='/home/basile/Documents/projet_bees_detection_basile/bees_detection/src/data/inputs/test.csv'\n",
    "path_to_val='/home/basile/Documents/projet_bees_detection_basile/bees_detection/src/data/inputs/valid.csv'\n",
    "\n",
    "\n"
   ]
  },
  {
   "cell_type": "code",
   "execution_count": 5,
   "metadata": {},
   "outputs": [],
   "source": [
    "df_dataset=pd.read_csv(path_to_dataset,header=None)\n",
    "df_train=pd.read_csv(path_to_train,header=None)\n",
    "df_test=pd.read_csv(path_to_test,header=None)\n"
   ]
  },
  {
   "cell_type": "code",
   "execution_count": 9,
   "metadata": {},
   "outputs": [],
   "source": [
    "# find the images that are in the dataset but not in the train/test\n",
    "# store it in df_val\n",
    "# save it in a csv file path_to_val\n",
    "\n",
    "\n",
    "df_val=df_dataset[~df_dataset[0].isin(df_train[0]) & ~df_dataset[0].isin(df_test[0])]\n",
    "df_val.to_csv(path_to_val,header=False,index=False)"
   ]
  }
 ],
 "metadata": {
  "kernelspec": {
   "display_name": "venv_bees",
   "language": "python",
   "name": "python3"
  },
  "language_info": {
   "codemirror_mode": {
    "name": "ipython",
    "version": 3
   },
   "file_extension": ".py",
   "mimetype": "text/x-python",
   "name": "python",
   "nbconvert_exporter": "python",
   "pygments_lexer": "ipython3",
   "version": "3.10.6"
  },
  "orig_nbformat": 4,
  "vscode": {
   "interpreter": {
    "hash": "5c612036f70405ccf2a58871faeff80bf9f2bbfa83a9382249588fc5eef60e3e"
   }
  }
 },
 "nbformat": 4,
 "nbformat_minor": 2
}
