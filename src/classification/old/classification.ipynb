{
 "cells": [
  {
   "attachments": {},
   "cell_type": "markdown",
   "metadata": {},
   "source": [
    "# CHANGE BDD STRUCTURE"
   ]
  },
  {
   "cell_type": "code",
   "execution_count": 2,
   "metadata": {},
   "outputs": [],
   "source": [
    "import os \n",
    "import shutil\n",
    "import pandas as pd\n",
    "import numpy as np\n",
    "import matplotlib.pyplot as plt"
   ]
  },
  {
   "cell_type": "code",
   "execution_count": 2,
   "metadata": {},
   "outputs": [],
   "source": [
    "path_to_bdd = \"/home/basile/Documents/projet_bees_detection_basile/data_bees_detection/whole_dataset_cropped_with_cleaned_structure\"\n",
    "path_to_csv = \"/home/basile/Documents/projet_bees_detection_basile/bees_detection/src/datafiles/final_datafiles/dataset_yolo_cropped_with_real_labels.csv\""
   ]
  },
  {
   "cell_type": "code",
   "execution_count": 5,
   "metadata": {},
   "outputs": [],
   "source": [
    "# Create all the folders for the new structure\n",
    "\n",
    "if not os.path.exists(path_to_bdd):\n",
    "    os.mkdir(path_to_bdd)       \n",
    "\n",
    "df = pd.read_csv(path_to_csv)\n",
    "species = df[\"Real labels\"].unique()\n",
    "\n",
    "for specie in species:\n",
    "\n",
    "    path = os.path.join(path_to_bdd, specie)\n",
    "\n",
    "    if not os.path.exists(path):\n",
    "        os.mkdir(path)"
   ]
  },
  {
   "cell_type": "code",
   "execution_count": 6,
   "metadata": {},
   "outputs": [],
   "source": [
    "# Copy all the images in the right folder\n",
    "# the name of the image is the concatenation of the path and the name of the image\n",
    "\n",
    "for index, row in df.iterrows():\n",
    "\n",
    "    \n",
    "    image_path = row[\"Paths\"]\n",
    "    real_label = row[\"Real labels\"]\n",
    "    image_name = \"_\".join(row[\"Paths\"].split(\"/\")[6:])\n",
    "\n",
    "    shutil.copy(os.path.join(image_path), os.path.join(path_to_bdd, real_label, image_name))\n",
    "\n"
   ]
  },
  {
   "cell_type": "code",
   "execution_count": 7,
   "metadata": {},
   "outputs": [],
   "source": [
    "# Save the new dataset in a csv file\n",
    "\n",
    "df = pd.DataFrame(columns=[\"Paths\", \"Labels\"])\n",
    "\n",
    "\n",
    "for specie in species:\n",
    "\n",
    "    path = os.path.join(path_to_bdd, specie)\n",
    "\n",
    "    temp = pd.DataFrame(columns=[\"Paths\", \"Labels\"])\n",
    "    temp[\"Paths\"] = [os.path.join(path, image) for image in os.listdir(path)]\n",
    "    temp[\"Labels\"] = specie\n",
    "\n",
    "    df = pd.concat([df, temp])\n",
    "\n",
    "df.to_csv(\"/home/basile/Documents/projet_bees_detection_basile/bees_detection/src/datafiles/final_datafiles/dataset_yolo_cropped_with_cleaned_structure.csv\", index=False)"
   ]
  },
  {
   "attachments": {},
   "cell_type": "markdown",
   "metadata": {},
   "source": [
    "# GEN TRAIN TEST VAL\n",
    "\n",
    "To start with, we'll create a simple dataset\n",
    "- only images labelled at species level\n",
    "- only species with more than a specified nb of pictures\n",
    "- no hierarchy between databases"
   ]
  },
  {
   "attachments": {},
   "cell_type": "markdown",
   "metadata": {},
   "source": [
    "1/ Filter dataset"
   ]
  },
  {
   "cell_type": "code",
   "execution_count": 15,
   "metadata": {},
   "outputs": [],
   "source": [
    "def filter_dataset(only_species=True, min_images=None,hierarchy=False,df_dataset=None):\n",
    "    \"\"\"\n",
    "    Filter the dataset according to specified criteria. \n",
    "    Parameters\n",
    "    ---------------\n",
    "    only_species : keep only the pictures labelled in picture level\n",
    "    min_images : keep only the taxa that have more than x images\n",
    "    path_to_dataset : dataset to filter in csv\n",
    "            # Path #Labels\n",
    "\n",
    "    Returns \n",
    "    --------------\n",
    "    df_dataset : filtered dataset # Paths # Labels\n",
    "    species : species in filtered dataset # Specie # Nb_img\n",
    "\n",
    "    \"\"\"\n",
    "\n",
    "\n",
    "    # Take only the images labelled as species (i.e. real labels has more than 1 word)\n",
    "    if only_species:\n",
    "        df_dataset = df_dataset[df_dataset[\"Labels\"].str.contains(\" \")]\n",
    "  \n",
    "    # Get the number of species that have more than min_images images\n",
    "    if min_images is not None : \n",
    "\n",
    "        species = df_dataset['Labels'].value_counts()[df_dataset['Labels'].value_counts() > min_images]\n",
    "\n",
    "        # Convert the series to a dataframe\n",
    "        species = species.to_frame()\n",
    "\n",
    "        # Reset the index\n",
    "        species.reset_index(inplace=True)\n",
    "\n",
    "        # Rename the columns\n",
    "        species.columns = ['Species', 'Number of images']\n",
    "\n",
    "        # Filter the dataset\n",
    "        df_dataset = df_dataset[df_dataset[\"Labels\"].isin(species[\"Species\"])]\n",
    "\n",
    "    return df_dataset, species\n",
    "\n",
    "df_dataset=pd.read_csv(\"/home/basile/Documents/projet_bees_detection_basile/bees_detection/src/datafiles/final_datafiles/dataset_yolo_cropped_with_cleaned_structure.csv\")\n",
    "df_dataset, species = filter_dataset(only_species=True, min_images=20000,\n",
    "                                      df_dataset=df_dataset)"
   ]
  },
  {
   "cell_type": "code",
   "execution_count": 16,
   "metadata": {},
   "outputs": [],
   "source": [
    "# take only 20 pictures per species\n",
    "df_dataset = df_dataset.groupby('Labels').head(2000)"
   ]
  },
  {
   "cell_type": "code",
   "execution_count": 17,
   "metadata": {},
   "outputs": [
    {
     "data": {
      "text/plain": [
       "Bombus terrestris    2000\n",
       "Apis mellifera       2000\n",
       "Name: Labels, dtype: int64"
      ]
     },
     "execution_count": 17,
     "metadata": {},
     "output_type": "execute_result"
    }
   ],
   "source": [
    "df_dataset['Labels'].value_counts()"
   ]
  },
  {
   "attachments": {},
   "cell_type": "markdown",
   "metadata": {},
   "source": [
    "2/ Split the filtered dataset into train / test / val "
   ]
  },
  {
   "cell_type": "code",
   "execution_count": 18,
   "metadata": {},
   "outputs": [],
   "source": [
    "# For each specie 80% of the images are used for training 10% for validation and 10% for testing\n",
    "\n",
    "def split_dataset(df_dataset=None, df_dataset__species= None, path_to_output= None):\n",
    "    \"\"\"\n",
    "    Split the dataset into train, valid and test set, \n",
    "    with 80% of the images for training, 10% for validation and 10% for testing\n",
    "\n",
    "    Parameters\n",
    "    ----------\n",
    "    df_dataset : pandas dataframe of all the pictures\n",
    "                # Paths # Labels\n",
    "    df_dataset_species : pandas dataframe with only the filtered species   \n",
    "                # Species # Number of images\n",
    "    path_to_output : path to the output folder where the csv files will be saved\n",
    "\n",
    "    Returns\n",
    "    -------\n",
    "    df_train : pandas dataframe of the training set\n",
    "                # Paths # Real labels\n",
    "    df_valid : pandas dataframe of the validation set\n",
    "                # Paths # Real labels\n",
    "    df_test : pandas dataframe of the testing set   \n",
    "                # Paths # Real labels\n",
    "\n",
    "    Csv files :\n",
    "     whole dataset \n",
    "     train/test/val\n",
    "     correspondance label/id\n",
    "    are saved in the output folder\n",
    "\n",
    "    \"\"\"\n",
    "\n",
    "\n",
    "    # Create empty dataframes\n",
    "    df_train = pd.DataFrame()\n",
    "    df_valid = pd.DataFrame()\n",
    "    df_test = pd.DataFrame()\n",
    "\n",
    "    for specie in species['Species']:\n",
    "\n",
    "        df_img = df_dataset[df_dataset['Labels'] == specie]\n",
    "\n",
    "        # shuffle the dataframe\n",
    "        df_img = df_img.sample(frac=1).reset_index(drop=True)\n",
    "\n",
    "        # get the number of images\n",
    "        nb_img = len(df_img)\n",
    "\n",
    "        # get the number of images for each set\n",
    "        nb_img_train = int(nb_img * 0.8)\n",
    "        nb_img_valid = int(nb_img * 0.1)\n",
    "        nb_img_test = int(nb_img * 0.1)\n",
    "\n",
    "        # get the dataframe for each set\n",
    "        df_img_train = df_img.iloc[:nb_img_train]\n",
    "        df_img_valid = df_img.iloc[nb_img_train:nb_img_train+nb_img_valid]\n",
    "        df_img_test = df_img.iloc[nb_img_train+nb_img_valid:]\n",
    "\n",
    "        # Concatenate the dataframe for each set\n",
    "        df_train = pd.concat([df_train, df_img_train])\n",
    "        df_valid = pd.concat([df_valid, df_img_valid])\n",
    "        df_test = pd.concat([df_test, df_img_test])\n",
    "\n",
    "   \n",
    "    # Drop the Real labels column\n",
    "    df_train.drop(columns=['Labels'], inplace=True)\n",
    "    df_valid.drop(columns=['Labels'], inplace=True)\n",
    "    df_test.drop(columns=['Labels'], inplace=True)\n",
    "\n",
    "    if not os.path.exists(path_to_output):\n",
    "        os.mkdir(path_to_output)\n",
    "\n",
    "    # save the dataframe to csv\n",
    "    df_train.to_csv(os.path.join(path_to_output, 'train.csv'), index=False)\n",
    "    df_valid.to_csv(os.path.join(path_to_output, 'valid.csv'), index=False)\n",
    "    df_test.to_csv(os.path.join(path_to_output, 'test.csv'), index=False) \n",
    "\n",
    "    # save the whole dataset to csv\n",
    "    df_dataset.to_csv(os.path.join(path_to_output, 'dataset.csv'), index=False)\n",
    "    species.to_csv(os.path.join(path_to_output,'dataset_summary.csv'),index=False)\n",
    "\n",
    "\n",
    "    return df_train, df_valid, df_test\n",
    "\n",
    "\n",
    "df_train, df_valid, df_test = split_dataset(df_dataset,species,\"/home/basile/Documents/projet_bees_detection_basile/bees_detection/src/datafiles/classification/inputs/VGG16_2_species\")"
   ]
  },
  {
   "attachments": {},
   "cell_type": "markdown",
   "metadata": {},
   "source": [
    "3/ Create a folder to store this split"
   ]
  },
  {
   "cell_type": "code",
   "execution_count": 19,
   "metadata": {},
   "outputs": [],
   "source": [
    "def copy_split_to_folder(path_to_folder=None, df_train=None ,df_test=None,df_valid=None,species=None):\n",
    "    \"\"\"\n",
    "    Copy the pictures in a new folder\n",
    "    \"\"\"\n",
    "\n",
    "    # Creates folders\n",
    "    if not os.path.exists(path_to_folder):\n",
    "        os.mkdir(path_to_folder)\n",
    "\n",
    "    names = ['train','test','valid']\n",
    "    dfs = [df_train,df_test,df_valid]\n",
    "\n",
    "    def df_to_folder(df,name):\n",
    "        \n",
    "        if not os.path.exists(os.path.join(path_to_folder,name)):\n",
    "            os.mkdir(os.path.join(path_to_folder,name))\n",
    "\n",
    "        for specie in species['Species']: \n",
    "\n",
    "            if not os.path.exists(os.path.join(path_to_folder,name,specie)):\n",
    "                os.mkdir(os.path.join(path_to_folder,name,specie))\n",
    "\n",
    "      \n",
    "        for old_path in df['Paths']:\n",
    "\n",
    "            new_path = os.path.join(path_to_folder, name,('/').join(old_path.split(os.path.sep)[-2:]))\n",
    "            old_path = os.path.join(old_path)\n",
    "            shutil.copy(old_path,new_path)\n",
    "    \n",
    "\n",
    "    for name,df in zip(names,dfs):\n",
    "        df_to_folder(df,name)\n",
    "\n",
    "\n",
    "copy_split_to_folder(path_to_folder='/home/basile/Documents/projet_bees_detection_basile/data_bees_detection/VGG16_2_species',df_train=df_train,df_test=df_test,df_valid=df_valid,species=species)\n"
   ]
  },
  {
   "attachments": {},
   "cell_type": "markdown",
   "metadata": {},
   "source": [
    "4/ Convert it to dataset "
   ]
  },
  {
   "cell_type": "code",
   "execution_count": 20,
   "metadata": {},
   "outputs": [
    {
     "name": "stdout",
     "output_type": "stream",
     "text": [
      "Found 3200 files belonging to 2 classes.\n",
      "Found 400 files belonging to 2 classes.\n",
      "Found 400 files belonging to 2 classes.\n"
     ]
    }
   ],
   "source": [
    "import keras\n",
    "import tensorflow as tf\n",
    "from keras.utils import image_dataset_from_directory\n",
    "\n",
    "\n",
    "def load_data_from_dir(path_to_dir=None,IMG_SIZE=None,BATCH_SIZE=None):\n",
    "    \"\"\"\n",
    "    Load the data from the folder\n",
    "    \"\"\"\n",
    "\n",
    "    path_train = os.path.join(path_to_dir,'train')\n",
    "    path_test = os.path.join(path_to_dir,'test')\n",
    "    path_valid = os.path.join(path_to_dir,'valid')\n",
    "\n",
    "    train_ds = keras.utils.image_dataset_from_directory(\n",
    "        directory= path_train,\n",
    "        labels='inferred',\n",
    "        label_mode='categorical',\n",
    "        shuffle = True,\n",
    "        batch_size=BATCH_SIZE,\n",
    "        image_size=(IMG_SIZE, IMG_SIZE))\n",
    "\n",
    "    valid_ds = keras.utils.image_dataset_from_directory(\n",
    "        directory= path_valid,\n",
    "        labels='inferred',\n",
    "        label_mode='categorical',\n",
    "        shuffle = True,\n",
    "        batch_size=BATCH_SIZE,\n",
    "        image_size=(IMG_SIZE, IMG_SIZE))\n",
    "\n",
    "    test_ds = keras.utils.image_dataset_from_directory(\n",
    "        directory= path_test,\n",
    "        labels='inferred',\n",
    "        label_mode='categorical',\n",
    "        shuffle = True,\n",
    "        batch_size=BATCH_SIZE,\n",
    "        image_size=(IMG_SIZE, IMG_SIZE))\n",
    "\n",
    "\n",
    "    return train_ds, test_ds , valid_ds\n",
    "\n",
    "\n",
    "train_ds, test_ds , valid_ds = load_data_from_dir(path_to_dir='/home/basile/Documents/projet_bees_detection_basile/data_bees_detection/VGG16_2_species',IMG_SIZE=128,BATCH_SIZE=12)\n",
    "\n"
   ]
  },
  {
   "attachments": {},
   "cell_type": "markdown",
   "metadata": {},
   "source": [
    "# CREATE MODEL"
   ]
  },
  {
   "attachments": {},
   "cell_type": "markdown",
   "metadata": {},
   "source": [
    "1/ COMPILE SIMPLEST MODEL"
   ]
  },
  {
   "cell_type": "code",
   "execution_count": 21,
   "metadata": {},
   "outputs": [],
   "source": [
    "from keras.applications.vgg16 import VGG16\n",
    "\n",
    "IMG_SIZE = 128\n",
    "\n",
    "model = VGG16(input_shape=(IMG_SIZE, IMG_SIZE, 3),include_top=False)\n",
    "\n",
    "# NB_CLASSES = species.shape[0]\n",
    "NB_CLASSES = len(train_ds.class_names)\n",
    "\n",
    "\n",
    "# create a classifier model on top\n",
    "x = model.output\n",
    "x = keras.layers.Flatten()(x)\n",
    "x = keras.layers.Dense(1024, activation='relu')(x)\n",
    "predictions = keras.layers.Dense(NB_CLASSES, activation='softmax')(x)\n",
    "\n",
    "# combine the two models\n",
    "model = keras.Model(inputs=model.input, outputs=predictions)\n",
    "\n",
    "# set parameters for training\n",
    "EPOCHS = 80\n",
    "# BATCH_SIZE = 8\n",
    "LOSS = 'binary_crossentropy'\n",
    "OPTI = 'adam'\n",
    "METRICS = ['binary_accuracy']\n",
    "\n",
    "model.compile(optimizer=OPTI, loss=LOSS, metrics=METRICS)\n",
    "\n"
   ]
  },
  {
   "attachments": {},
   "cell_type": "markdown",
   "metadata": {},
   "source": [
    "2/ Train the model"
   ]
  },
  {
   "attachments": {},
   "cell_type": "markdown",
   "metadata": {},
   "source": [
    "2.1 Train simplest"
   ]
  },
  {
   "cell_type": "code",
   "execution_count": null,
   "metadata": {},
   "outputs": [],
   "source": [
    "# train the model\n",
    "history = model.fit(train_ds, epochs=EPOCHS, validation_data=valid_ds)"
   ]
  },
  {
   "cell_type": "code",
   "execution_count": 30,
   "metadata": {},
   "outputs": [
    {
     "data": {
      "image/png": "[encoded data removed]",
      "text/plain": [
       "<Figure size 640x480 with 1 Axes>"
      ]
     },
     "metadata": {},
     "output_type": "display_data"
    }
   ],
   "source": [
    "import matplotlib.pyplot as plt\n",
    "def plot_training_analysis(history, metric='loss'):    \n",
    "\n",
    "  loss = history.history[metric]\n",
    "  val_loss = history.history['val_' + metric]\n",
    "\n",
    "  epochs = range(len(loss))\n",
    "\n",
    "  plt.plot(epochs, loss, 'b', linestyle=\"--\",label='Training ' + metric)\n",
    "  plt.plot(epochs, val_loss, 'g', label='Validation ' + metric)\n",
    "  plt.title('Training and validation ' + metric)\n",
    "  plt.legend()\n",
    "\n",
    "  plt.show()\n",
    "\n",
    "plot_training_analysis(history, metric='loss')"
   ]
  },
  {
   "cell_type": "code",
   "execution_count": null,
   "metadata": {},
   "outputs": [
    {
     "data": {
      "image/png": "[encoded data removed]",
      "text/plain": [
       "<Figure size 640x480 with 1 Axes>"
      ]
     },
     "metadata": {},
     "output_type": "display_data"
    }
   ],
   "source": [
    "plot_training_analysis(history, metric='binary_accuracy')"
   ]
  },
  {
   "cell_type": "code",
   "execution_count": null,
   "metadata": {},
   "outputs": [
    {
     "name": "stdout",
     "output_type": "stream",
     "text": [
      "1/1 [==============================] - 0s 34ms/step - loss: 0.6931 - binary_accuracy: 0.5000\n"
     ]
    },
    {
     "data": {
      "text/plain": [
       "[0.6931489706039429, 0.5]"
      ]
     },
     "execution_count": 177,
     "metadata": {},
     "output_type": "execute_result"
    }
   ],
   "source": [
    "model.evaluate(test_ds)"
   ]
  },
  {
   "cell_type": "code",
   "execution_count": null,
   "metadata": {},
   "outputs": [],
   "source": [
    "# callbacks\n",
    "model_checkpoint_cb = tf.keras.callbacks.ModelCheckpoint(\n",
    "    filepath='/home/basile/Documents/projet_bees_detection_basile/bees_detection/src/datafiles/classification/benchmark/VGG16_20_pictures/VGG16_20_pictures.h5',\n",
    "    save_weights_only=True,\n",
    "    monitor='val_categorical_accuracy',\n",
    "    mode='min',\n",
    "    save_best_only=True,\n",
    "    #save_freq=16,\n",
    "    verbose=1)\n",
    "\n",
    "early_stopping_cb = tf.keras.callbacks.EarlyStopping(\n",
    "    monitor='val_categorical_accuracy',\n",
    "    min_delta=0.00001,\n",
    "    patience=90,\n",
    "    verbose=1,\n",
    "    mode=\"auto\")\n",
    "\n",
    "reduce_lr_cb = tf.keras.callbacks.ReduceLROnPlateau(monitor='val_categorical_accuracy', factor=0.1,\n",
    "                              patience=5, min_lr=0.00001, verbose=1)\n"
   ]
  },
  {
   "cell_type": "code",
   "execution_count": null,
   "metadata": {},
   "outputs": [],
   "source": [
    "history = model.fit(train_ds,validation_data=valid_ds,epochs=EPOCHS, batch_size=BATCH_SIZE,callbacks=[model_checkpoint_cb,early_stopping_cb,reduce_lr_cb])"
   ]
  },
  {
   "cell_type": "code",
   "execution_count": null,
   "metadata": {},
   "outputs": [
    {
     "name": "stdout",
     "output_type": "stream",
     "text": [
      "1/1 [==============================] - 0s 34ms/step - loss: 0.6945 - categorical_accuracy: 0.3333 - precision: 0.3333 - recall: 0.3333\n"
     ]
    },
    {
     "data": {
      "text/plain": [
       "[0.6944556832313538,\n",
       " 0.3333333432674408,\n",
       " 0.3333333432674408,\n",
       " 0.3333333432674408]"
      ]
     },
     "execution_count": 70,
     "metadata": {},
     "output_type": "execute_result"
    }
   ],
   "source": [
    "# evaluate model\n",
    "\n",
    "# load best weights\n",
    "model.load_weights('/home/basile/Documents/projet_bees_detection_basile/bees_detection/src/datafiles/classification/benchmark/VGG16_20_pictures/VGG16_20_pictures.h5')\n",
    "\n",
    "# evaluate model\n",
    "model.evaluate(test_ds,batch_size=BATCH_SIZE)\n",
    "\n"
   ]
  },
  {
   "attachments": {},
   "cell_type": "markdown",
   "metadata": {},
   "source": [
    "# Evaluate with hierarchical loss"
   ]
  },
  {
   "cell_type": "code",
   "execution_count": null,
   "metadata": {},
   "outputs": [],
   "source": [
    "\n",
    "from numpy.ma.core import transpose\n",
    "from keras import backend as K\n",
    "import math\n",
    "import tensorflow as tf\n",
    "\n",
    "\n",
    "def get_hierarchy(path_hierarchy,path_classes):\n",
    "    \"\"\"\n",
    "    Get the hierarchy of the species\n",
    "    \"\"\"\n",
    "    hierarchie = pd.read_csv(path_hierarchy)\n",
    "\n",
    "    hierarchie = hierarchie.drop(columns=[\"tribe\"])\n",
    "\n",
    "    species = hierarchie[\"species\"].unique()\n",
    "    nb_species = len(species)\n",
    "\n",
    "    genus = list(hierarchie[\"genus\"].unique())\n",
    "    nb_genus = len(genus)\n",
    "\n",
    "    family = list(hierarchie[\"family\"].unique())\n",
    "    nb_family = len(family)\n",
    "\n",
    "    subfamily = list(hierarchie[\"subfamily\"].unique())\n",
    "    nb_subfamily = len(subfamily)\n",
    "\n",
    "    print(\"nb species : \", nb_species)\n",
    "    print(\"nb genus : \", nb_genus)\n",
    "    print(\"nb family : \", nb_family)\n",
    "    print(\"nb subfamily : \", nb_subfamily)\n",
    "\n",
    "    species_to_genus = np.zeros((nb_genus, nb_species))\n",
    "    genus_to_subfamily = np.zeros((nb_subfamily, nb_genus))\n",
    "    subfamily_to_family = np.zeros((nb_family, nb_subfamily))\n",
    "\n",
    "\n",
    "    data = pd.read_csv(path_classes)\n",
    "    data.columns = [\"species\", \"0\"]\n",
    "   \n",
    "    \n",
    "    for i in range(nb_species):\n",
    "        nb_images = data.at[i, \"0\"]\n",
    "        # species -> genus\n",
    "        genus_species = hierarchie.at[i, \"genus\"]\n",
    "        ind_genus = genus.index(genus_species)\n",
    "        species_to_genus[ind_genus, i] = 1\n",
    "\n",
    "        # genus -> subfamily\n",
    "        subfamily_species = hierarchie.at[i, \"subfamily\"]\n",
    "        ind_subfamily = subfamily.index(subfamily_species)\n",
    "        genus_to_subfamily[ind_subfamily, ind_genus] = 1\n",
    "\n",
    "        # subfamily -> family\n",
    "        family_species = hierarchie.at[i, \"family\"]\n",
    "        ind_family = family.index(family_species)\n",
    "        subfamily_to_family[ind_family, ind_subfamily] = 1\n",
    "\n",
    "\n",
    "    return species_to_genus, genus_to_subfamily, subfamily_to_family,hierarchie\n",
    "\n",
    "\n",
    "def Hierarchicaloss(species_to_genus, genus_to_subfamily, subfamily_to_family, batch_size, alpha=0.1):\n",
    "\n",
    "    def weight(height=1):\n",
    "      return math.exp(-alpha * height)\n",
    "    \n",
    "    def species_loss(y_true, y_pred):\n",
    "      height = 0\n",
    "      return weight(height) * K.categorical_crossentropy(y_true, y_pred)\n",
    "  \n",
    "    def species_to_genus_loss(y_true, y_pred):\n",
    "      height = 1\n",
    "      y_true_genus = K.transpose(tf.raw_ops.MatMul(a=species_to_genus, b=tf.cast(y_true, tf.float64), transpose_b=True))\n",
    "      y_pred_genus = K.transpose(tf.raw_ops.MatMul(a=species_to_genus, b=tf.cast(y_pred, tf.float64), transpose_b=True))\n",
    "      return weight(height) * K.categorical_crossentropy(y_true_genus, y_pred_genus), y_true_genus, y_pred_genus\n",
    "    \n",
    "    def genus_to_subfamily_loss(y_true, y_pred):\n",
    "      height = 2\n",
    "      y_true_subfamily = K.transpose(tf.raw_ops.MatMul(a=genus_to_subfamily, b=y_true, transpose_b=True))\n",
    "      y_pred_subfamily = K.transpose(tf.raw_ops.MatMul(a=genus_to_subfamily, b=y_pred, transpose_b=True))\n",
    "      return weight(height) * K.categorical_crossentropy(y_true_subfamily, y_pred_subfamily), y_true_subfamily, y_pred_subfamily\n",
    "    \n",
    "    def subfamily_to_family_loss(y_true, y_pred):\n",
    "      height = 3\n",
    "      y_true_family = K.transpose(tf.raw_ops.MatMul(a=subfamily_to_family, b=y_true, transpose_b=True))\n",
    "      y_pred_family = K.transpose(tf.raw_ops.MatMul(a=subfamily_to_family, b=y_pred, transpose_b=True))\n",
    "      return weight(height) * K.categorical_crossentropy(y_true_family, y_pred_family)\n",
    "\n",
    "    def HIERARCHICAL_loss(y_true, y_pred):\n",
    "      loss_species = tf.cast(species_loss(y_true, y_pred), tf.float64)\n",
    "      loss_genus, y_true_genus, y_pred_genus = species_to_genus_loss(y_true, y_pred)\n",
    "      loss_subfamily, y_true_subfamily, y_pred_subfamily = genus_to_subfamily_loss(y_true_genus, y_pred_genus)\n",
    "      loss_family = subfamily_to_family_loss(y_true_subfamily, y_pred_subfamily)\n",
    "      return (loss_species + loss_genus + loss_subfamily + loss_family)/batch_size\n",
    "   \n",
    "    # Return a function\n",
    "    return HIERARCHICAL_loss\n",
    "\n",
    "CLASS_NAMES = test_ds.class_names\n",
    "\n",
    "def analyse_accuracy_hierarchie(y_pred, y_true, hierarchie):\n",
    "  accuracy = 0\n",
    "  accuracy_genus = 0\n",
    "  accuracy_family = 0\n",
    "  accuracy_subfamily = 0\n",
    "  prediction = np.argmax(y_pred, axis=1)\n",
    "  ground_truth = np.argmax(y_true, axis=1)\n",
    "  \n",
    "  for i in range(len(y_pred)):\n",
    "    true_species = CLASS_NAMES[ground_truth[i]]\n",
    "    pred_species = CLASS_NAMES[prediction[i]]\n",
    "\n",
    "    if (true_species == pred_species):\n",
    "      accuracy += 1.\n",
    "      accuracy_genus += 1.\n",
    "      accuracy_family += 1.\n",
    "      accuracy_subfamily += 1.\n",
    "    else:\n",
    "      true_genus = hierarchie.at[true_species, \"genus\"]\n",
    "      true_family = hierarchie.at[true_species, \"family\"]\n",
    "      true_subfamily = hierarchie.at[true_species, \"subfamily\"]\n",
    "      pred_genus = hierarchie.at[pred_species, \"genus\"]\n",
    "      pred_family = hierarchie.at[pred_species, \"family\"]\n",
    "      pred_subfamily = hierarchie.at[pred_species, \"subfamily\"]\n",
    "      if (true_genus == pred_genus):\n",
    "        accuracy_genus += 1.\n",
    "      if (true_family == pred_family):\n",
    "        accuracy_family += 1.\n",
    "      if (true_subfamily == pred_subfamily):\n",
    "        accuracy_subfamily += 1.\n",
    "      \n",
    "  accuracy = accuracy/len(y_pred)\n",
    "  accuracy_genus = accuracy_genus/len(y_pred)\n",
    "  accuracy_family = accuracy_family/len(y_pred)\n",
    "  accuracy_subfamily = accuracy_subfamily/len(y_pred)\n",
    "\n",
    "  print(\"Accuracy : \" + str(accuracy))\n",
    "  print(\"Accuracy genus : \" + str(accuracy_genus))\n",
    "  print(\"Accuracy family : \" + str(accuracy_family))\n",
    "  print(\"Accuracy subfamily : \" + str(accuracy_subfamily))"
   ]
  },
  {
   "cell_type": "code",
   "execution_count": null,
   "metadata": {},
   "outputs": [
    {
     "name": "stdout",
     "output_type": "stream",
     "text": [
      "nb species :  178\n",
      "nb genus :  40\n",
      "nb family :  6\n",
      "nb subfamily :  15\n"
     ]
    }
   ],
   "source": [
    "\n",
    "species_to_genus, genus_to_subfamily, subfamily_to_family,hierarchy = get_hierarchy(\"/home/basile/Documents/projet_bees_detection_basile/bees_detection/src/datafiles/classification/benchmark/VGG16_03_05/hierarchy.csv\",\"/home/basile/Documents/projet_bees_detection_basile/bees_detection/src/datafiles/classification/benchmark/VGG16_03_05/dataset_summary.csv\")\n",
    "\n",
    "loss = Hierarchicaloss(species_to_genus, genus_to_subfamily, subfamily_to_family, batch_size=16, alpha=0.1)\n",
    "\n",
    "model.compile(optimizer=OPTI, loss=loss, metrics=['categorical_accuracy', tf.keras.metrics.Precision(), tf.keras.metrics.Recall()])\n",
    "\n",
    "model.load_weights('/home/basile/Documents/projet_bees_detection_basile/bees_detection/src/datafiles/classification/saved_weights/VGG16_1.h5')\n",
    "\n",
    "\n",
    "\n",
    "\n",
    "\n",
    "\n"
   ]
  },
  {
   "cell_type": "code",
   "execution_count": null,
   "metadata": {},
   "outputs": [],
   "source": [
    "from keras.applications.vgg16 import VGG16\n",
    "\n",
    "IMG_SIZE = 64\n",
    "\n",
    "model = VGG16(input_shape=(IMG_SIZE, IMG_SIZE, 3),include_top=False)\n",
    "\n",
    "# NB_CLASSES = species.shape[0]\n",
    "NB_CLASSES = len(train_ds.class_names)\n",
    "\n",
    "\n",
    "# create a classifier model on top\n",
    "x = model.output\n",
    "x = keras.layers.Flatten()(x)\n",
    "x = keras.layers.Dense(1024, activation='relu')(x)\n",
    "predictions = keras.layers.Dense(NB_CLASSES, activation='softmax')(x)\n",
    "\n",
    "# combine the two models\n",
    "model = keras.Model(inputs=model.input, outputs=predictions)\n",
    "\n",
    "# set parameters for training\n",
    "EPOCHS = 80\n",
    "BATCH_SIZE = 8\n",
    "OPTI = keras.optimizers.Adam(learning_rate=0.001, decay=1e-6)\n",
    "# OPTI = keras.optimizers.SGD(learning_rate=0.1, momentum=0.9)\n",
    "LOSS = tf.keras.losses.CategoricalCrossentropy()\n",
    "LOSS = 'categorical_crossentropy'\n",
    "METRICS = ['categorical_accuracy', keras.metrics.Precision(name='precision'), keras.metrics.Recall(name='recall')]\n",
    "\n",
    "# compile model\n",
    "model.compile(optimizer=OPTI, loss=LOSS, metrics=METRICS)\n"
   ]
  }
 ],
 "metadata": {
  "kernelspec": {
   "display_name": "Python 3",
   "language": "python",
   "name": "python3"
  },
  "language_info": {
   "codemirror_mode": {
    "name": "ipython",
    "version": 3
   },
   "file_extension": ".py",
   "mimetype": "text/x-python",
   "name": "python",
   "nbconvert_exporter": "python",
   "pygments_lexer": "ipython3",
   "version": "3.10.6"
  },
  "orig_nbformat": 4
 },
 "nbformat": 4,
 "nbformat_minor": 2
}
