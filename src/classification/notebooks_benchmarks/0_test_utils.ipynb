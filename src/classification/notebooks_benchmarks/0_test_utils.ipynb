{
 "cells": [
  {
   "cell_type": "code",
   "execution_count": 2,
   "metadata": {},
   "outputs": [
    {
     "name": "stderr",
     "output_type": "stream",
     "text": [
      "2023-05-26 16:21:44.766314: I tensorflow/core/platform/cpu_feature_guard.cc:193] This TensorFlow binary is optimized with oneAPI Deep Neural Network Library (oneDNN) to use the following CPU instructions in performance-critical operations:  AVX2 AVX_VNNI FMA\n",
      "To enable them in other operations, rebuild TensorFlow with the appropriate compiler flags.\n",
      "2023-05-26 16:21:44.864858: I tensorflow/core/util/port.cc:104] oneDNN custom operations are on. You may see slightly different numerical results due to floating-point round-off errors from different computation orders. To turn them off, set the environment variable `TF_ENABLE_ONEDNN_OPTS=0`.\n",
      "2023-05-26 16:21:45.336326: W tensorflow/compiler/xla/stream_executor/platform/default/dso_loader.cc:64] Could not load dynamic library 'libnvinfer.so.7'; dlerror: libnvinfer.so.7: cannot open shared object file: No such file or directory; LD_LIBRARY_PATH: /home/basile/.local/lib/python3.10/site-packages/cv2/../../lib64:\n",
      "2023-05-26 16:21:45.336393: W tensorflow/compiler/xla/stream_executor/platform/default/dso_loader.cc:64] Could not load dynamic library 'libnvinfer_plugin.so.7'; dlerror: libnvinfer_plugin.so.7: cannot open shared object file: No such file or directory; LD_LIBRARY_PATH: /home/basile/.local/lib/python3.10/site-packages/cv2/../../lib64:\n",
      "2023-05-26 16:21:45.336398: W tensorflow/compiler/tf2tensorrt/utils/py_utils.cc:38] TF-TRT Warning: Cannot dlopen some TensorRT libraries. If you would like to use Nvidia GPU with TensorRT, please make sure the missing libraries mentioned above are installed properly.\n"
     ]
    }
   ],
   "source": [
    "from utils_classiff import create_datasets_and_directories,BeeBatchGenerator,create_directories"
   ]
  },
  {
   "cell_type": "code",
   "execution_count": 3,
   "metadata": {},
   "outputs": [
    {
     "name": "stdout",
     "output_type": "stream",
     "text": [
      "\n",
      " SUM UP OF THE FILTERING PROCESS : \n",
      "\n",
      "--------------------------------------------------\n",
      "Number of species with more than 200 images : 126\n",
      "Number of species kept after filtering : 2\n",
      "__________________________________________________\n",
      "Number of species in the train dataset : 2\n",
      "Number of images in the train dataset : 42\n",
      "--------------------------------------------------\n",
      "Number of species in the validation dataset : 2\n",
      "Number of images in the validation dataset : 9\n",
      "--------------------------------------------------\n",
      "Number of species in the test dataset : 2\n",
      "Number of images in the test dataset : 9\n",
      "--------------------------------------------------\n",
      "Classes : \n",
      "['Andrena thoracica' 'Andrena hattorfiana']\n",
      "__________________________________________________\n"
     ]
    }
   ],
   "source": [
    "##### PARAMETERS #####\n",
    "PATH_TO_DATASET =\"/home/basile/Documents/projet_bees_detection_basile/bees_detection/src/datafiles/final_datafiles/dataset_yolo_cropped_with_cleaned_structure.csv\"\n",
    "OUTPUT_FOLDER = \"/home/basile/Documents/projet_bees_detection_basile/data_bees_detection/benchmark_classification/2_Resnet_300_imgs_2_species/\"\n",
    "IMG_SIZE = 256\n",
    "CAP = 200\n",
    "NB_IMG_TO_KEEP = 30\n",
    "NB_CLASSES = 2    \n",
    "BACTH_SIZE = 16\n",
    "##### PARAMETERS #####\n",
    "\n",
    "# Create the datasets and directories\n",
    "X_train, y_train, X_val, y_val, X_test, y_test, classes = create_directories(path_to_csv=PATH_TO_DATASET, path_to_output=OUTPUT_FOLDER, image_size=IMG_SIZE, cap=CAP, nb_img_to_keep=NB_IMG_TO_KEEP,nb_classes_to_keep=NB_CLASSES)\n",
    "\n",
    "list = ['train', 'test', 'validation']\n",
    "NB_CLASSES = len(classes)"
   ]
  },
  {
   "cell_type": "code",
   "execution_count": 4,
   "metadata": {},
   "outputs": [],
   "source": [
    "train_ds = BeeBatchGenerator(X_train, y_train, batch_size=BACTH_SIZE, image_size = (IMG_SIZE,IMG_SIZE),classes=classes)\n",
    "val_ds = BeeBatchGenerator(X_val, y_val, batch_size=BACTH_SIZE, image_size = (IMG_SIZE,IMG_SIZE),classes=classes)"
   ]
  },
  {
   "cell_type": "code",
   "execution_count": null,
   "metadata": {},
   "outputs": [],
   "source": []
  }
 ],
 "metadata": {
  "kernelspec": {
   "display_name": "Python 3",
   "language": "python",
   "name": "python3"
  },
  "language_info": {
   "codemirror_mode": {
    "name": "ipython",
    "version": 3
   },
   "file_extension": ".py",
   "mimetype": "text/x-python",
   "name": "python",
   "nbconvert_exporter": "python",
   "pygments_lexer": "ipython3",
   "version": "3.10.6"
  },
  "orig_nbformat": 4
 },
 "nbformat": 4,
 "nbformat_minor": 2
}
