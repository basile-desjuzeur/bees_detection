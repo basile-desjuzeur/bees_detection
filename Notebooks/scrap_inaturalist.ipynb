{
 "cells": [
  {
   "attachments": {},
   "cell_type": "markdown",
   "metadata": {},
   "source": [
    "# <center> <u>**Srap inat** </u></center>\n",
    "\n"
   ]
  },
  {
   "attachments": {},
   "cell_type": "markdown",
   "metadata": {},
   "source": [
    "# O. Vérification du bon scrap \n",
    "\n"
   ]
  },
  {
   "attachments": {},
   "cell_type": "markdown",
   "metadata": {},
   "source": [
    "GuideInatscrapping.txt"
   ]
  },
  {
   "cell_type": "code",
   "execution_count": null,
   "metadata": {},
   "outputs": [],
   "source": []
  },
  {
   "attachments": {},
   "cell_type": "markdown",
   "metadata": {},
   "source": [
    "# 1. Approche par la similitude des photos"
   ]
  },
  {
   "cell_type": "code",
   "execution_count": 6,
   "metadata": {},
   "outputs": [],
   "source": [
    "import os \n",
    "import pandas as pd\n",
    "\n",
    "# Load the data\n",
    "path_Inaturalist = '/workspaces/projet_bees_detection_basile/data_bees_detection/whole_dataset/iNaturalist'\n",
    "path_inat_25_04 = '/workspaces/projet_bees_detection_basile/data_bees_detection/whole_dataset/inat_25_04'\n"
   ]
  },
  {
   "cell_type": "code",
   "execution_count": 2,
   "metadata": {},
   "outputs": [
    {
     "name": "stdout",
     "output_type": "stream",
     "text": [
      "Collecting imagehash\n",
      "  Downloading ImageHash-4.3.1-py2.py3-none-any.whl (296 kB)\n",
      "\u001b[K     |████████████████████████████████| 296 kB 1.6 MB/s eta 0:00:01\n",
      "\u001b[?25hRequirement already satisfied: PyWavelets in /workspaces/projet_bees_detection_basile/venv_bees_detection/lib/python3.8/site-packages (from imagehash) (1.4.1)\n",
      "Requirement already satisfied: scipy in /workspaces/projet_bees_detection_basile/venv_bees_detection/lib/python3.8/site-packages (from imagehash) (1.10.1)\n",
      "Requirement already satisfied: numpy in /workspaces/projet_bees_detection_basile/venv_bees_detection/lib/python3.8/site-packages (from imagehash) (1.23.5)\n",
      "Requirement already satisfied: pillow in /workspaces/projet_bees_detection_basile/venv_bees_detection/lib/python3.8/site-packages (from imagehash) (9.5.0)\n",
      "Installing collected packages: imagehash\n",
      "Successfully installed imagehash-4.3.1\n"
     ]
    }
   ],
   "source": [
    "! pip install imagehash"
   ]
  },
  {
   "cell_type": "code",
   "execution_count": 9,
   "metadata": {},
   "outputs": [
    {
     "ename": "FileNotFoundError",
     "evalue": "[Errno 2] No such file or directory: 'Hylaeus hyalinatus'",
     "output_type": "error",
     "traceback": [
      "\u001b[0;31m---------------------------------------------------------------------------\u001b[0m",
      "\u001b[0;31mFileNotFoundError\u001b[0m                         Traceback (most recent call last)",
      "Cell \u001b[0;32mIn[9], line 7\u001b[0m\n\u001b[1;32m      2\u001b[0m \u001b[39mimport\u001b[39;00m \u001b[39mimagehash\u001b[39;00m\n\u001b[1;32m      5\u001b[0m \u001b[39m# test \u001b[39;00m\n\u001b[0;32m----> 7\u001b[0m image \u001b[39m=\u001b[39m os\u001b[39m.\u001b[39;49mlistdir(os\u001b[39m.\u001b[39;49mlistdir(path_Inaturalist)[\u001b[39m0\u001b[39;49m])[\u001b[39m0\u001b[39m]\n\u001b[1;32m      8\u001b[0m similar_image \u001b[39m=\u001b[39m os\u001b[39m.\u001b[39mlistdir(os\u001b[39m.\u001b[39mlistdir(path_Inaturalist)[\u001b[39m0\u001b[39m])[\u001b[39m0\u001b[39m]\n\u001b[1;32m      9\u001b[0m different_image \u001b[39m=\u001b[39m os\u001b[39m.\u001b[39mlistdir(os\u001b[39m.\u001b[39mlistdir(path_Inaturalist)[\u001b[39m1\u001b[39m])[\u001b[39m0\u001b[39m]\n",
      "\u001b[0;31mFileNotFoundError\u001b[0m: [Errno 2] No such file or directory: 'Hylaeus hyalinatus'"
     ]
    }
   ],
   "source": [
    "from PIL import Image\n",
    "import imagehash\n",
    "\n",
    "\n",
    "# test \n",
    "\n",
    "image = '/workspaces/projet_bees_detection_basile/data_bees_detection/whole_dataset/iNaturalist/Aglaoapis tridentata/Aglaoapis tridentata39788.jpg'\n",
    "similar_image = '/workspaces/projet_bees_detection_basile/data_bees_detection/whole_dataset/iNaturalist/Aglaoapis tridentata/Aglaoapis tridentata39788.jpg'\n",
    "different_image = '/workspaces/projet_bees_detection_basile/data_bees_detection/whole_dataset/iNaturalist/Aglaoapis tridentata/Aglaoapis tridentata44408.jpg'\n",
    "\n",
    "\n",
    "hash0 = imagehash.average_hash(Image.open(image)) \n",
    "hash1 = imagehash.average_hash(Image.open(similar_image)) \n",
    "cutoff = 5  # maximum bits that could be different between the hashes. \n",
    "\n",
    "if hash0 - hash1 < cutoff:\n",
    "  print('images are similar')\n",
    "else:\n",
    "  print('images are not similar')"
   ]
  },
  {
   "attachments": {},
   "cell_type": "markdown",
   "metadata": {},
   "source": [
    "# 2. Approche par la similitude des noms de photo"
   ]
  }
 ],
 "metadata": {
  "kernelspec": {
   "display_name": "venv_bees_detection",
   "language": "python",
   "name": "python3"
  },
  "language_info": {
   "codemirror_mode": {
    "name": "ipython",
    "version": 3
   },
   "file_extension": ".py",
   "mimetype": "text/x-python",
   "name": "python",
   "nbconvert_exporter": "python",
   "pygments_lexer": "ipython3",
   "version": "3.8.10"
  },
  "orig_nbformat": 4
 },
 "nbformat": 4,
 "nbformat_minor": 2
}
