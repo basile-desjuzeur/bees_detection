{
 "cells": [
  {
   "attachments": {},
   "cell_type": "markdown",
   "metadata": {},
   "source": [
    "# <center> <u>**Scrap inaturalist** </u></center>\n",
    "\n"
   ]
  },
  {
   "attachments": {},
   "cell_type": "markdown",
   "metadata": {},
   "source": [
    "# 1. Récupérer les noms latins des espèces désirées\n",
    "\n",
    "On part d'une liste d'espèces d'abeilles extraite sur [taxref](https://inpn.mnhn.fr/accueil/index) des espèces que l'on veut scraper. Cette liste se trouve [ici](bees_detection/datafiles/scrap_inat/taxref_abeilles.csv) dans notre cas. "
   ]
  },
  {
   "cell_type": "code",
   "execution_count": 5,
   "metadata": {},
   "outputs": [],
   "source": [
    "import pandas as pd\n",
    "import os \n",
    "\n",
    "path_to_desired_taxa = '/workspaces/projet_bees_detection_basile/bees_detection/datafiles/scrap_inat/taxref_abeilles.csv'\n",
    "df_desired_taxa = pd.read_csv(path_to_desired_taxa, sep=';', encoding='latin-1')\n",
    "\n",
    "df_desired_taxa = df_desired_taxa['LB_NOM']\n",
    "df_desired_taxa = df_desired_taxa.drop_duplicates()\n"
   ]
  },
  {
   "cell_type": "code",
   "execution_count": 8,
   "metadata": {},
   "outputs": [],
   "source": [
    "path_folder_inat_util = '/workspaces/projet_bees_detection_basile/data_bees_detection/inat_utils/'\n",
    "\n",
    "if not os.path.exists(path_folder_inat_util):\n",
    "    os.makedirs(path_folder_inat_util)\n",
    "\n",
    "# save the list of desired taxa\n",
    "path_to_save = path_folder_inat_util + 'desired_taxa.csv'\n",
    "# save the list of desired taxa\n",
    "df_desired_taxa.to_csv(path_to_save, index=False)\n"
   ]
  },
  {
   "attachments": {},
   "cell_type": "markdown",
   "metadata": {},
   "source": [
    "# 2. Définir le périmètre de recherche\n",
    "\n",
    "Sur le site de [inaturalist](https://www.inaturalist.org/observations?lat=45.85406092425659&lng=1.845703125&place_id=any&radius=544.8939333282226&subview=map) on peut définir un certain périmètre de recherche.\n",
    "On a ici choisi un périmètre qui correspond à la France métropolitaine et à une distance de 500km autour de Limoges (environ).\n",
    "\n",
    "Coordonnées du centre : \n",
    "- latitude : 45.85\n",
    "- longitude : 1.86\n",
    "\n",
    "(NB: pour trouver les coordonnées GPS d'une ville, on peut utiliser [ce site](https://www.coordonnees-gps.fr/zone-rayon-100km))\n",
    "\n",
    "\n",
    "(NB2: on peut retrouver ces données en dessinant le périmètre sur la carte du site inaturalist et en récupérant les coordonnées GPS dans l'url)\n"
   ]
  },
  {
   "attachments": {},
   "cell_type": "markdown",
   "metadata": {},
   "source": [
    "On cherche donc l'ensemble des points d'observation d'abeilles dans ce périmètre.\n",
    "\n",
    "On postule que :\n",
    "rayon terre = 6371km\n",
    "\n",
    "distance = arccos(sin(lat_cercle) * sin(lat_point) + cos(lat_cercle) * cos(lat_point) * cos(long_cercle - long_point)) * rayon_terrestre\n",
    "\n",
    "On cherche donc les points d'observation qui sont à une distance inférieure à 500km du centre du cercle.\n",
    "\n",
    "i.e.\n",
    "\n",
    "arccos(sin(lat_cercle) * sin(lat_point) + cos(lat_cercle) * cos(lat_point) * cos(long_cercle - long_point)) * rayon_terrestre <= 500\n",
    "\n"
   ]
  },
  {
   "attachments": {},
   "cell_type": "markdown",
   "metadata": {},
   "source": [
    "# 3. Récupérer et filtrer la base de données\n",
    "\n",
    "En suivant le tuto : \n",
    "\n",
    "\n",
    "bees_detection/datafiles/download_inaturalist.txt\n",
    "\n",
    "Et en modifiant les l 157 à 160 avec les coordonnées GPS du centre du cercle et le rayon du cercle trouvées précédemment.\n",
    "\n",
    "\n"
   ]
  },
  {
   "attachments": {},
   "cell_type": "markdown",
   "metadata": {},
   "source": [
    "# 4. Télécharger les données"
   ]
  },
  {
   "attachments": {},
   "cell_type": "markdown",
   "metadata": {},
   "source": [
    "A noter : \n",
    "\n",
    "l 39 de src/scrap_inat/get_data_from_inat.py\n",
    "\n",
    "On peut changer : \n",
    "image_url = f\"https://inaturalist-open-data.s3.amazonaws.com/photos/{photo_id}/medium.{extension}\"  (500 * 500 pixels, bien pour détection)\n",
    "en \n",
    "image_url = f\"https://inaturalist-open-data.s3.amazonaws.com/photos/{photo_id}/small ou square .{extension}\" \n",
    "\n",
    "Se référer à la [doc](https://github.com/inaturalist/inaturalist-open-data/tree/documentation) si nécessaire"
   ]
  },
  {
   "cell_type": "code",
   "execution_count": 18,
   "metadata": {},
   "outputs": [
    {
     "name": "stderr",
     "output_type": "stream",
     "text": [
      "100%|██████████| 23113/23113 [00:02<00:00, 10580.51it/s]\n"
     ]
    },
    {
     "data": {
      "text/plain": [
       "0"
      ]
     },
     "execution_count": 18,
     "metadata": {},
     "output_type": "execute_result"
    }
   ],
   "source": [
    "cmd ='python3 /workspaces/projet_bees_detection_basile/bees_detection/src/scrap_inat/get_data_from_inat.py -i /workspaces/projet_bees_detection_basile/data_bees_detection/inat_utils/inat_filter.csv -o /workspaces/projet_bees_detection_basile/data_bees_detection/0705inat/'\n",
    "\n",
    "os.system(cmd)\n",
    "\n",
    "\n"
   ]
  },
  {
   "cell_type": "code",
   "execution_count": null,
   "metadata": {},
   "outputs": [],
   "source": []
  }
 ],
 "metadata": {
  "kernelspec": {
   "display_name": "venv_bees_detection",
   "language": "python",
   "name": "python3"
  },
  "language_info": {
   "codemirror_mode": {
    "name": "ipython",
    "version": 3
   },
   "file_extension": ".py",
   "mimetype": "text/x-python",
   "name": "python",
   "nbconvert_exporter": "python",
   "pygments_lexer": "ipython3",
   "version": "3.8.10"
  },
  "orig_nbformat": 4
 },
 "nbformat": 4,
 "nbformat_minor": 2
}
